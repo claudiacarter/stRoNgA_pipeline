{
 "cells": [
  {
   "cell_type": "markdown",
   "id": "80936bf7",
   "metadata": {},
   "source": [
    "# Identifying novel diagnostic biomarker candidates in *Strongyloides* small RNA\n"
   ]
  },
  {
   "cell_type": "markdown",
   "id": "7da5ad39",
   "metadata": {},
   "source": [
    "## How to use the stRoNgA pipeline\n",
    "As input the pipeline takes 2 files per sample; a FASTQ containing only small RNAs that aligned to the target parasite (TP) and a FASTQ containing only small RNAs that aligned to the target host (TH). These can be retrieved by running RNA-seq through the existing Hunt Lab small RNA pipeline.\n",
    "\n",
    "Cross-referencing: For each sample the common sRNAs between TP-aligned and TH-aligned file are removed. If confirmed-negative TH small RNAs are available they are subtracted from the TH-aligned files to make these files usable in the following sections to find TH small RNAs specific to infection with TP. This step removes broadly conserved small RNAs before a later, more in-depth specificity check.\n",
    "\n",
    "Consistency and Abundance Ranking: The common sRNAs between all TP-aligned files are identified (with an exact match approach) and written to a single, non-redundant FASTA file with the ID line reading \"srna_target_candidate_#\" where the # is a number as the position in a 0-based list ordered by abundance ranking.\n",
    "\n",
    "Specificity: Queries small RNA sequences in FASTA against large databases (e.g. using Kraken2?BLAST?MetaPhlAn?) to detect hits from species other then TP/TH\n",
    "\n"
   ]
  },
  {
   "cell_type": "code",
   "execution_count": null,
   "id": "ed86d2ef",
   "metadata": {},
   "outputs": [],
   "source": []
  }
 ],
 "metadata": {
  "kernelspec": {
   "display_name": "Python 3 (ipykernel)",
   "language": "python",
   "name": "python3"
  },
  "language_info": {
   "codemirror_mode": {
    "name": "ipython",
    "version": 3
   },
   "file_extension": ".py",
   "mimetype": "text/x-python",
   "name": "python",
   "nbconvert_exporter": "python",
   "pygments_lexer": "ipython3",
   "version": "3.11.5"
  }
 },
 "nbformat": 4,
 "nbformat_minor": 5
}
